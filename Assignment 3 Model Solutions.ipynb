{
 "cells": [
  {
   "cell_type": "code",
   "execution_count": 13,
   "metadata": {
    "nbgrader": {
     "grade": false,
     "grade_id": "cell-ed258371d1aaae62",
     "locked": true,
     "schema_version": 3,
     "solution": false,
     "task": false
    }
   },
   "outputs": [],
   "source": [
    "from __future__ import division\n",
    "from IPython.display import HTML\n",
    "from IPython.display import display\n",
    "from scipy.optimize import *\n",
    "import numpy as np\n",
    "import pandas as pd\n",
    "import matplotlib.pyplot as plt"
   ]
  },
  {
   "cell_type": "markdown",
   "metadata": {
    "nbgrader": {
     "grade": false,
     "grade_id": "cell-b5dd6a19dbfc0109",
     "locked": true,
     "schema_version": 3,
     "solution": false,
     "task": false
    }
   },
   "source": [
    "## Question 1: Linear Regression, Curvature Matrix\n",
    "\n",
    "Consider the data listed below,\n",
    "\\begin{equation}\n",
    "\\begin{array}{lcccccc}\n",
    "\\hline\n",
    "{\\rm frequency~(Hz)} &10&20&30&40&50&60\\\\\n",
    "{\\rm voltage~(mV)} &16&45&64&75&70&115\\\\\n",
    "{\\rm error~(mV)}   &5&5&5&5&30&5\\\\\n",
    "\\hline\n",
    "{\\rm frequency~(Hz)} &70&80&90&100&110&\\\\\n",
    "{\\rm voltage~(mV)} &142&167&183&160&221&\\\\\n",
    "{\\rm error~(mV)}   &5&5&5&30&5&\\\\\n",
    "\\hline\n",
    "\\end{array} \n",
    "\\end{equation}\n",
    "\n",
    "This data is also contained in the file 'linear_regression.csv'.\n",
    "\n",
    "Required:\n",
    "<bf>\n",
    "> (i) Calculate the 4 elements of the curvature matrix.\n",
    "<bf>\n",
    "> (ii) Invert this to give the error matrix.\n",
    "<bf>\n",
    "> (iii) What are the uncertainties in the slope and intercept?\n",
    "<bf>\n",
    "> (iv) Comment on your answer."
   ]
  },
  {
   "cell_type": "markdown",
   "metadata": {
    "nbgrader": {
     "grade": false,
     "grade_id": "cell-0ecbd3712337b9ae",
     "locked": true,
     "schema_version": 3,
     "solution": false,
     "task": false
    }
   },
   "source": [
    "### (i) Calculate the 4 elements of the curvature matrix."
   ]
  },
  {
   "cell_type": "code",
   "execution_count": 14,
   "metadata": {
    "nbgrader": {
     "grade": false,
     "grade_id": "cell-a8061423011a8a5e",
     "locked": true,
     "schema_version": 3,
     "solution": false,
     "task": false
    }
   },
   "outputs": [
    {
     "data": {
      "text/plain": [
       "matrix([[3.62222222e-01, 2.05666667e+01],\n",
       "        [2.05666667e+01, 1.53788889e+03]])"
      ]
     },
     "execution_count": 14,
     "metadata": {},
     "output_type": "execute_result"
    }
   ],
   "source": [
    "data = pd.read_csv('linear_regression.csv')\n",
    "frequencies = data.iloc[:,0]\n",
    "voltages = data.iloc[:,1]\n",
    "voltage_errors = data.iloc[:,2]\n",
    "\n",
    "def one_i():\n",
    "    '''Your function should return something of the form np.matrix([[a_cc,a_cm],[a_mc,a_mm]])'''\n",
    "    \n",
    "    a_cc = 0\n",
    "    a_cm = 0\n",
    "    a_mm = 0\n",
    "    for j,i in enumerate(frequencies):\n",
    "        \n",
    "        # Note given we are assuming linear regression we can use the formulae\n",
    "        # 7.23 - 7.25 in the Huges and Hayes book\n",
    "        alpha_i = voltage_errors[j]\n",
    "        a_cc += (1/(alpha_i**2))\n",
    "        a_cm += (i/(alpha_i**2))\n",
    "        a_mm += (i**2/(alpha_i**2))\n",
    "    a_mc = a_cm\n",
    "    curvature_matrix = np.matrix([[a_cc,a_cm],[a_mc,a_mm]])\n",
    "\n",
    "    return curvature_matrix\n",
    "one_i()"
   ]
  },
  {
   "cell_type": "markdown",
   "metadata": {
    "nbgrader": {
     "grade": false,
     "grade_id": "cell-297224eb42753407",
     "locked": true,
     "schema_version": 3,
     "solution": false,
     "task": false
    }
   },
   "source": [
    "### (ii) Invert this to give the error matrix."
   ]
  },
  {
   "cell_type": "code",
   "execution_count": 15,
   "metadata": {
    "nbgrader": {
     "grade": false,
     "grade_id": "cell-f1181bd93715c586",
     "locked": true,
     "schema_version": 3,
     "solution": false,
     "task": false
    }
   },
   "outputs": [
    {
     "data": {
      "text/plain": [
       "matrix([[ 1.14708117e+01, -1.53402734e-01],\n",
       "        [-1.53402734e-01,  2.70174453e-03]])"
      ]
     },
     "execution_count": 15,
     "metadata": {},
     "output_type": "execute_result"
    }
   ],
   "source": [
    "data = pd.read_csv('linear_regression.csv')\n",
    "frequencies = data.iloc[:,0]\n",
    "voltages = data.iloc[:,1]\n",
    "voltage_errors = data.iloc[:,2]\n",
    "\n",
    "def one_ii():\n",
    "    '''Your function should return something of the form np.matrix([[a_cc,a_cm],[a_mc,a_mm]])'''\n",
    "\n",
    "    curvature_matrix = one_i()\n",
    "    inverted_matrix = curvature_matrix.I\n",
    "\n",
    "    return inverted_matrix\n",
    "\n",
    "one_ii()"
   ]
  },
  {
   "cell_type": "markdown",
   "metadata": {
    "nbgrader": {
     "grade": false,
     "grade_id": "cell-2bd4c55c097ad632",
     "locked": true,
     "schema_version": 3,
     "solution": false,
     "task": false
    }
   },
   "source": [
    "### (iii) What are the uncertainties in the slope and intercept?"
   ]
  },
  {
   "cell_type": "code",
   "execution_count": 16,
   "metadata": {
    "nbgrader": {
     "grade": false,
     "grade_id": "cell-6ff81eb1afbe53e7",
     "locked": true,
     "schema_version": 3,
     "solution": false,
     "task": false
    }
   },
   "outputs": [
    {
     "data": {
      "text/plain": [
       "(0.051978308277218006, 3.3868586735217345)"
      ]
     },
     "execution_count": 16,
     "metadata": {},
     "output_type": "execute_result"
    }
   ],
   "source": [
    "data = pd.read_csv('linear_regression.csv')\n",
    "frequencies = data.iloc[:,0]\n",
    "voltages = data.iloc[:,1]\n",
    "voltage_errors = data.iloc[:,2]\n",
    "\n",
    "def one_iii():\n",
    "    slope_uncertainty = 0\n",
    "    intercept_uncertainty = 0\n",
    "\n",
    "    error_matrix = one_ii()\n",
    "    slope_uncertainty = np.sqrt(error_matrix[1,1])\n",
    "    intercept_uncertainty = np.sqrt(error_matrix[0,0])\n",
    "\n",
    "    return slope_uncertainty,intercept_uncertainty\n",
    "\n",
    "one_iii()"
   ]
  },
  {
   "cell_type": "markdown",
   "metadata": {
    "nbgrader": {
     "grade": false,
     "grade_id": "cell-4e08fdb22973b46c",
     "locked": true,
     "schema_version": 3,
     "solution": false,
     "task": false
    }
   },
   "source": [
    "### (iv) Comment on your answer"
   ]
  },
  {
   "cell_type": "markdown",
   "metadata": {
    "nbgrader": {
     "grade": false,
     "grade_id": "cell-f68bfa4e8b879207",
     "locked": true,
     "schema_version": 3,
     "solution": false,
     "task": false
    }
   },
   "source": [
    "We did the same analysis last week and got the same answer with a different method.\n",
    "\n",
    "The diagonal elements of the error matrix are also not equal to the inverse of the diagonal elements of the curvature matrix and therefore suggest a correlation between the errors in the gradient and intercept. More specifically, since the off-diagonal elemements of the error matrix are negative (and therefore so are the values of the off-diagonal correlation matrix), the two variables are negatively correlated.\n",
    "\n",
    "The error on the intercept is much larger than the error on the gradient. Given that the errors in the y-data (the voltage) are large relative to the negligible error in the x-data (frequency) this is not surprising."
   ]
  },
  {
   "cell_type": "markdown",
   "metadata": {
    "nbgrader": {
     "grade": false,
     "grade_id": "cell-e98b996e8522b95f",
     "locked": true,
     "schema_version": 3,
     "solution": false,
     "task": false
    }
   },
   "source": [
    "## Question 2: Using a calibration curve\n",
    "\n",
    "A frequently encountered case where the correlation of the uncertainties must be taken into account is that of a calibration curve.  Consider the following set of measurements from an optical-activity experiment, where the angle of rotation of a plane-polarized light beam, $\\theta$, is measured as a function of the independent variable, the concentration, $C$, of a sucrose solution. \n",
    "\n",
    "\\begin{equation}\n",
    "\\begin{array}{lcccc}\n",
    "\\hline\n",
    "C \\mbox{ (g cm$^{-3}$)} &0.025&0.05&0.075&0.100\\\\\n",
    "\\theta \\mbox{ (degrees)}&10.7&21.6&32.4&43.1\\\\\n",
    "\\hline\n",
    "C \\mbox{ (g cm$^{-3}$)}&0.125&0.150&0.175\\\\\n",
    "\\theta \\mbox{ (degrees)}&53.9&64.9&75.4\\\\\n",
    "\\hline\n",
    "\\end{array} \n",
    "\\end{equation}\n",
    "\n",
    "The errors in the angle measurement are all $0.1^{\\circ}$, the errors in the concentration are negligible.  A straight line  fit to the data yields  a gradient of $431.7\\,^{\\circ}\\mbox{ g$^{-1}$ cm$^{3}$}$, and intercept $-0.03^{\\circ}$. This data is contained in 'optical_activity.csv'.\n",
    "\n",
    "<bf>\n",
    "Required:\n",
    "<bf>\n",
    ">(i) Show that the curvature matrix, $\\mathsf{A}$, is given by \n",
    "\n",
    "\\begin{equation}\n",
    "\\mathsf{A}=\\left[\\begin{array}{cc}\n",
    "700\\left((^{\\circ})^{-2}\\right)&70\\left((^{\\circ})^{-2}\\mbox{g cm$^{-3}$}\\right)\\\\\n",
    "70\\left((^{\\circ})^{-2}\\mbox{g cm$^{-3}$}\\right)&8.75\\left((\\mbox{g/$^\\circ$ cm$^{3})^2$}\\right)\\\\\n",
    "\\end{array}\\right] ,\n",
    "\\end{equation}\n",
    "\n",
    "\n",
    ">and that the error matrix  is \n",
    "\n",
    "\\begin{equation}\n",
    "\\mathsf{C}=\\left[\\begin{array}{cc}\n",
    "0.00714\\left((^{\\circ})^2\\right)&-0.0571\\left((^{\\circ})^2\\mbox{g$^{-1}$cm$^{3}$}\\right)\\\\\n",
    "-0.0571\\left((^{\\circ})^2\\mbox{g$^{-1}$cm$^{3}$}\\right)&0.571\\left((^{\\circ})^2\\mbox{g$^{-2}$ cm$^{6}$}\\right)\\\\\n",
    "\\end{array}\\right] .\n",
    "\\end{equation}\n",
    "\n",
    "The entry for the intercept is in the top left-hand corner, that for the gradient in the bottom right-hand corner.  \n",
    "<bf>\n",
    ">(ii) Calculate the associated correlation matrix.  \n",
    "\n",
    "Use the  entries of the error matrix to answer the following  questions: \n",
    "<bf>\n",
    ">(iii) What are the uncertainties in the best-fit intercept and gradient? \n",
    "<bf>\n",
    ">(iv) What optical rotation is expected for a known concentration of $C=0.080g cm^{-3}$, and what is the uncertainty? \n",
    "<bf>\n",
    ">(v) What is the concentration given a measured rotation of $\\theta=70.3^{\\circ}$ and what is the uncertainty?"
   ]
  },
  {
   "cell_type": "markdown",
   "metadata": {
    "nbgrader": {
     "grade": false,
     "grade_id": "cell-b0e0b1d18dd53d75",
     "locked": true,
     "schema_version": 3,
     "solution": false,
     "task": false
    }
   },
   "source": [
    "### (i) Verify the curvature matrix and the error matrix above."
   ]
  },
  {
   "cell_type": "code",
   "execution_count": 17,
   "metadata": {
    "nbgrader": {
     "grade": false,
     "grade_id": "cell-90c242e605b9f033",
     "locked": true,
     "schema_version": 3,
     "solution": false,
     "task": false
    }
   },
   "outputs": [
    {
     "data": {
      "text/plain": [
       "(matrix([[700.  ,  70.  ],\n",
       "         [ 70.  ,   8.75]]),\n",
       " matrix([[ 0.00714286, -0.05714286],\n",
       "         [-0.05714286,  0.57142857]]))"
      ]
     },
     "execution_count": 17,
     "metadata": {},
     "output_type": "execute_result"
    }
   ],
   "source": [
    "data = pd.read_csv('optical_activity.csv')\n",
    "concentrations = data.iloc[:,0]\n",
    "angles = data.iloc[:,1]\n",
    "angle_errors = data.iloc[:,2]\n",
    "\n",
    "def two_i():\n",
    "    '''Your function should return something of the form np.matrix([[a_cc,a_cm],[a_mc,a_mm]]). Must return the curvature and error matricies)'''\n",
    "    curvature_matrix = 0\n",
    "    error_matrix = 0\n",
    "\n",
    "    a_cc = 0\n",
    "    a_cm = 0\n",
    "    a_mm = 0\n",
    "    for j,i in enumerate(concentrations):\n",
    "        alpha_i = angle_errors[j]\n",
    "        a_cc += (1/(alpha_i**2))\n",
    "        a_cm += (i/(alpha_i**2))\n",
    "        a_mm += (i**2/(alpha_i**2))\n",
    "    a_mc = a_cm\n",
    "    \n",
    "    curvature_matrix = np.matrix([[a_cc,a_cm],[a_mc,a_mm]])\n",
    "    error_matrix = curvature_matrix.I\n",
    "\n",
    "    return curvature_matrix,error_matrix\n",
    "\n",
    "two_i()"
   ]
  },
  {
   "cell_type": "markdown",
   "metadata": {
    "nbgrader": {
     "grade": false,
     "grade_id": "cell-b667bab6b908e819",
     "locked": true,
     "schema_version": 3,
     "solution": false,
     "task": false
    }
   },
   "source": [
    "### (ii) Calculate the associated correlation matrix.  "
   ]
  },
  {
   "cell_type": "code",
   "execution_count": 18,
   "metadata": {
    "nbgrader": {
     "grade": false,
     "grade_id": "cell-6a7fa0e40768028d",
     "locked": true,
     "schema_version": 3,
     "solution": false,
     "task": false
    }
   },
   "outputs": [
    {
     "data": {
      "text/plain": [
       "matrix([[ 1.        , -0.89442719],\n",
       "        [-0.89442719,  1.        ]])"
      ]
     },
     "execution_count": 18,
     "metadata": {},
     "output_type": "execute_result"
    }
   ],
   "source": [
    "data = pd.read_csv('optical_activity.csv')\n",
    "concentrations = data.iloc[:,0]\n",
    "angles = data.iloc[:,1]\n",
    "angle_errors = data.iloc[:,2]\n",
    "\n",
    "def two_ii():\n",
    "    '''Your function should return something of the form np.matrix([[a_cc,a_cm],[a_mc,a_mm]])'''\n",
    "    \n",
    "    matricies = two_i()\n",
    "    error_matrix = matricies[1]\n",
    "    diagonal_element = 1\n",
    "    off_diagonal = error_matrix[0,1]/np.sqrt(error_matrix[0,0]*error_matrix[1,1])\n",
    "    correlation_matrix = np.matrix([[1,off_diagonal],[off_diagonal,1]])\n",
    "\n",
    "    return correlation_matrix\n",
    "two_ii()"
   ]
  },
  {
   "cell_type": "markdown",
   "metadata": {
    "nbgrader": {
     "grade": false,
     "grade_id": "cell-45c82ff7c57d0ccb",
     "locked": true,
     "schema_version": 3,
     "solution": false,
     "task": false
    }
   },
   "source": [
    "### (iii) What are the uncertainties in the best-fit intercept and gradient? "
   ]
  },
  {
   "cell_type": "code",
   "execution_count": 19,
   "metadata": {
    "nbgrader": {
     "grade": false,
     "grade_id": "cell-f32635e579d41db7",
     "locked": true,
     "schema_version": 3,
     "solution": false,
     "task": false
    }
   },
   "outputs": [
    {
     "data": {
      "text/plain": [
       "(0.7559289460184541, 0.08451542547285162)"
      ]
     },
     "execution_count": 19,
     "metadata": {},
     "output_type": "execute_result"
    }
   ],
   "source": [
    "data = pd.read_csv('optical_activity.csv')\n",
    "concentrations = data.iloc[:,0]\n",
    "angles = data.iloc[:,1]\n",
    "angle_errors = data.iloc[:,2]\n",
    "\n",
    "def two_iii():\n",
    "    '''Your function should return the uncertainty in the gradient and intercept'''\n",
    "    gradient_uncertainty = 0\n",
    "    intercept_uncertainty = 0\n",
    "\n",
    "    matricies = two_i()\n",
    "    error_matrix = matricies[1]\n",
    "    intercept_uncertainty = np.sqrt(error_matrix[0,0])\n",
    "    gradient_uncertainty = np.sqrt(error_matrix[1,1])\n",
    "\n",
    "    return gradient_uncertainty,intercept_uncertainty\n",
    "\n",
    "two_iii()"
   ]
  },
  {
   "cell_type": "markdown",
   "metadata": {
    "nbgrader": {
     "grade": false,
     "grade_id": "cell-245627a0850cbab9",
     "locked": true,
     "schema_version": 3,
     "solution": false,
     "task": false
    }
   },
   "source": [
    "### (iv) What optical rotation is expected for a known concentration of $C=0.080g cm^{-3}$, and what is the uncertainty? "
   ]
  },
  {
   "cell_type": "code",
   "execution_count": 20,
   "metadata": {
    "nbgrader": {
     "grade": false,
     "grade_id": "cell-48ce90c9edb9a1af",
     "locked": true,
     "schema_version": 3,
     "solution": false,
     "task": false
    }
   },
   "outputs": [
    {
     "name": "stdout",
     "output_type": "stream",
     "text": [
      "[[ 0.00714286 -0.05714286]\n",
      " [-0.05714286  0.57142857]]\n"
     ]
    },
    {
     "data": {
      "text/plain": [
       "(34.506, 0.04070801956792859)"
      ]
     },
     "execution_count": 20,
     "metadata": {},
     "output_type": "execute_result"
    }
   ],
   "source": [
    "data = pd.read_csv('optical_activity.csv')\n",
    "concentrations = data.iloc[:,0]\n",
    "angles = data.iloc[:,1]\n",
    "angle_errors = data.iloc[:,2]\n",
    "\n",
    "def two_iv():\n",
    "    '''Your function should return the angle and the uncertainty'''\n",
    "    angle = 0\n",
    "    uncertainty = 0\n",
    "\n",
    "    matricies = two_i()\n",
    "    error_matrix = matricies[1]\n",
    "    print (error_matrix)\n",
    "    angle = (431.7*0.08)-0.03\n",
    "    \n",
    "    # combine errors together\n",
    "    uncertainty = np.sqrt(((0.08**2)*error_matrix[1,1])+error_matrix[0,0]+(2*0.08*error_matrix[0,1]))\n",
    "\n",
    "    return angle,uncertainty\n",
    "\n",
    "two_iv()"
   ]
  },
  {
   "cell_type": "markdown",
   "metadata": {
    "nbgrader": {
     "grade": false,
     "grade_id": "cell-ce7c8453308eee52",
     "locked": true,
     "schema_version": 3,
     "solution": false,
     "task": false
    }
   },
   "source": [
    "### (v) What is the concentration given a measured rotation of $\\theta=70.3^{\\circ}$ and what is the uncertainty? You must return your answer in $gcm^{-3}$"
   ]
  },
  {
   "cell_type": "code",
   "execution_count": 21,
   "metadata": {
    "nbgrader": {
     "grade": false,
     "grade_id": "cell-2a210b206abe39ca",
     "locked": true,
     "schema_version": 3,
     "solution": false,
     "task": false
    }
   },
   "outputs": [
    {
     "data": {
      "text/plain": [
       "(0.16291406069029418, 0.00014070872926728317)"
      ]
     },
     "execution_count": 21,
     "metadata": {},
     "output_type": "execute_result"
    }
   ],
   "source": [
    "data = pd.read_csv('optical_activity.csv')\n",
    "concentrations = data.iloc[:,0]\n",
    "angles = data.iloc[:,1]\n",
    "angle_errors = data.iloc[:,2]\n",
    "\n",
    "def two_v():\n",
    "    '''Your function should return the concentration and uncertainty'''\n",
    "\n",
    "    matricies = two_i()\n",
    "    error_matrix = matricies[1]\n",
    "    concentration = 70.33/431.7 #Should be 0.16291 gcm^-3\n",
    "    uncertainty = (1/431.7)*np.sqrt(((0.16291**2)*0.571)+0.00714+(2*0.16291*(-0.0571)))\n",
    "\n",
    "    return concentration,uncertainty\n",
    "\n",
    "two_v()"
   ]
  },
  {
   "cell_type": "markdown",
   "metadata": {
    "nbgrader": {
     "grade": false,
     "grade_id": "cell-68476541a0ef792b",
     "locked": true,
     "schema_version": 3,
     "solution": false,
     "task": false
    }
   },
   "source": [
    "## Question 3: Error bars from a $\\chi^2$ minimisation to a non-linear function\n",
    "\n",
    "In this question we will analyse the data shown in the figure below, which is an X-ray spectrum as a function of angle.\n",
    "\n",
    "![title](./diffraction.JPG)\n",
    " \n",
    "The data is contained in the file 'LorentzianData.csv'. There are three columns: the angle, the signal (in counts per second), and the error.  The number of X-rays counted in 20 seconds was recorded.\n",
    "\n",
    "The model to describe the data has four parameters:  the height of the Lorentzian lineshape, $S_0$; the angle at which the peak is centered, $\\theta_{0}$;\n",
    " the angular width of the peak, $\\Delta\\theta$; and a constant background offset, $S_{\\rm bgd}$. Mathematically, the signal, $S$, is of the form:\n",
    "\\begin{equation}\n",
    "S=S_{\\rm bgd}+\\frac{S_{0}}{1+4\\left(\\frac{\\theta-\\theta_{0}}{\\Delta\\theta}\\right)^2}.\n",
    "\\end{equation}\n",
    "\n",
    "and the function is defined by `lorentzian(theta, s_0, s_bgd,delta_theta,theta_0)`.\n",
    "\n",
    "Required:\n",
    "<bf>\n",
    ">(i) Explain how the error in the count rate was calculated.\n",
    "<bf>\n",
    ">(ii) Perform a $\\chi^2$ minimisation.  What are the best-fit parameters?\n",
    "<bf>\n",
    ">(iii) Evaluate the error matrix.\n",
    "<bf>\n",
    ">(iv) Calculate the correlation matrix.\n",
    "<bf>\n",
    ">(v) What are the uncertainties in the best-fit parameters?\n",
    "<bf>\n",
    ">(vi) If you can plot contour plots, show the $\\chi^2$ contours for \n",
    "<bf>\n",
    ">>(a) background--peak centre. \n",
    "<bf>\n",
    ">>(b) background--peak width.  \n",
    "<bf>\n",
    ">These figures are shown in figure 6.11 of Hughes and Hase. Comment on the shape of the contours.\n",
    "<bf>"
   ]
  },
  {
   "cell_type": "markdown",
   "metadata": {
    "nbgrader": {
     "grade": false,
     "grade_id": "cell-b965fa7ac06be7a9",
     "locked": true,
     "schema_version": 3,
     "solution": false,
     "task": false
    }
   },
   "source": [
    "### (i) Explain how the error in the count rate was calculated."
   ]
  },
  {
   "cell_type": "markdown",
   "metadata": {
    "nbgrader": {
     "grade": false,
     "grade_id": "cell-af660dec82aee39a",
     "locked": true,
     "schema_version": 3,
     "solution": false,
     "task": false
    }
   },
   "source": [
    "The errors were calculated using Poisson statistics. As each count rate was calculated by measuring the number of counts in $20$ s, the error in the rate was given by taking the square root of the number of counts calculated in this interval, and then dividing it by this length of time. Synbolically, if $\\tau$ is the amount of time the measurement was taken over and $dN/dt$ the calculated count rate, then\n",
    "\n",
    "$$\\alpha_{dN/dt} = \\sqrt{\\frac{dN/dt}{\\tau}}~.$$"
   ]
  },
  {
   "cell_type": "markdown",
   "metadata": {
    "nbgrader": {
     "grade": false,
     "grade_id": "cell-f719a415310aea0d",
     "locked": true,
     "schema_version": 3,
     "solution": false,
     "task": false
    }
   },
   "source": [
    "### (ii) Perform a $\\chi^2$ minimisation.  What are the best-fit parameters?"
   ]
  },
  {
   "cell_type": "code",
   "execution_count": 22,
   "metadata": {
    "nbgrader": {
     "grade": false,
     "grade_id": "cell-b803d7b2c879b923",
     "locked": true,
     "schema_version": 3,
     "solution": false,
     "task": false
    }
   },
   "outputs": [
    {
     "name": "stdout",
     "output_type": "stream",
     "text": [
      "(5.4263352119603745, 1.4044049238755842, 0.9498788979210941, 44.39011991115929, array([[ 4.48037865e-02,  4.49948193e-04, -6.89983405e-03,\n",
      "         2.50865799e-05],\n",
      "       [ 4.49948193e-04,  9.19638504e-04, -7.78136811e-04,\n",
      "        -2.60248176e-06],\n",
      "       [-6.89983405e-03, -7.78136811e-04,  2.33241895e-03,\n",
      "        -8.64073786e-07],\n",
      "       [ 2.50865799e-05, -2.60248176e-06, -8.64073786e-07,\n",
      "         2.68738782e-04]]))\n"
     ]
    },
    {
     "data": {
      "text/plain": [
       "<matplotlib.collections.PathCollection at 0x7f1df96b2c70>"
      ]
     },
     "execution_count": 22,
     "metadata": {},
     "output_type": "execute_result"
    },
    {
     "data": {
      "image/png": "[encoded data removed]",
      "text/plain": [
       "<Figure size 432x288 with 1 Axes>"
      ]
     },
     "metadata": {
      "needs_background": "light"
     },
     "output_type": "display_data"
    }
   ],
   "source": [
    "data = pd.read_csv('LorentzianData.csv') \n",
    "\n",
    "def lorentzian(theta, s_0, s_bgd,delta_theta,theta_0):\n",
    "    return s_bgd+(s_0/(1+4*(((theta-theta_0)/delta_theta)**2)))\n",
    "\n",
    "def three_ii():\n",
    "    s_0 = 0\n",
    "    s_bgd = 0\n",
    "    delta_theta = 0\n",
    "    theta_0 = 0\n",
    "    covariance_matrix = 0\n",
    "    angles = data.iloc[:,0]\n",
    "    intensity = data.iloc[:,1]\n",
    "    intensity_errors = data.iloc[:,2]\n",
    "    \n",
    "   \n",
    "    guess = np.array([5.,1.,0.5,44.])\n",
    "    #guess = np.array([5.42,1.40,0.94,44.39])\n",
    "    popt,pcov= curve_fit(lorentzian, angles, intensity, guess, sigma=intensity_errors)\n",
    "    covariance_matrix = pcov\n",
    "    s_0= popt[0]\n",
    "    s_bgd = popt[1]\n",
    "    theta_0 = popt[3]\n",
    "    delta_theta = popt[2]\n",
    "    angles_1 = np.arange(39,50,0.01)\n",
    "    intensity_1 = []\n",
    "    for i in angles_1:\n",
    "        element = s_bgd + (s_0/(1+4*((i-theta_0)/delta_theta)**2))\n",
    "        intensity_1.append(element)\n",
    "  \n",
    "    return(s_0,s_bgd,delta_theta,theta_0,covariance_matrix)\n",
    "\n",
    "print(three_ii())\n",
    "\n",
    "plt.scatter(data.iloc[:,0], data.iloc[:,1])"
   ]
  },
  {
   "cell_type": "markdown",
   "metadata": {
    "nbgrader": {
     "grade": false,
     "grade_id": "cell-bbcc2ba2381e48e5",
     "locked": true,
     "schema_version": 3,
     "solution": false,
     "task": false
    }
   },
   "source": [
    "### (iii) Evaluate the error matrix."
   ]
  },
  {
   "cell_type": "code",
   "execution_count": 12,
   "metadata": {
    "nbgrader": {
     "grade": false,
     "grade_id": "cell-4190be1416227f9e",
     "locked": true,
     "schema_version": 3,
     "solution": false,
     "task": false
    }
   },
   "outputs": [
    {
     "data": {
      "text/plain": [
       "matrix([[ 4.48037868e-02,  4.49948224e-04, -6.89983416e-03,\n",
       "          2.50865719e-05],\n",
       "        [ 4.49948224e-04,  9.19638504e-04, -7.78136815e-04,\n",
       "         -2.60248292e-06],\n",
       "        [-6.89983416e-03, -7.78136815e-04,  2.33241897e-03,\n",
       "         -8.64070683e-07],\n",
       "        [ 2.50865719e-05, -2.60248292e-06, -8.64070683e-07,\n",
       "          2.68738782e-04]])"
      ]
     },
     "execution_count": 12,
     "metadata": {},
     "output_type": "execute_result"
    }
   ],
   "source": [
    "data = pd.read_csv('LorentzianData.csv') \n",
    "\n",
    "def three_iii():\n",
    "    '''Your function should return something of the form np.matrix([[a_cc,a_cm],[a_mc,a_mm]])'''\n",
    "\n",
    "    cov_matrix = np.matrix(three_ii()[4])\n",
    "    error_matrix = cov_matrix\n",
    "\n",
    "    return error_matrix\n",
    "\n",
    "three_iii()"
   ]
  },
  {
   "cell_type": "markdown",
   "metadata": {
    "nbgrader": {
     "grade": false,
     "grade_id": "cell-cdf84fe51f3f3f4d",
     "locked": true,
     "schema_version": 3,
     "solution": false,
     "task": false
    }
   },
   "source": [
    "### (iv) Calculate the correlation matrix."
   ]
  },
  {
   "cell_type": "code",
   "execution_count": 13,
   "metadata": {
    "nbgrader": {
     "grade": false,
     "grade_id": "cell-c7257914f67b1821",
     "locked": true,
     "schema_version": 3,
     "solution": false,
     "task": false
    }
   },
   "outputs": [
    {
     "data": {
      "text/plain": [
       "array([[ 1.        ,  0.39467889, -0.97924002, -0.17658699],\n",
       "       [ 0.39467889,  1.        , -0.56789937, -0.1189287 ],\n",
       "       [-0.97924002, -0.56789937,  1.        ,  0.13840403],\n",
       "       [-0.17658699, -0.1189287 ,  0.13840403,  1.        ]])"
      ]
     },
     "execution_count": 13,
     "metadata": {},
     "output_type": "execute_result"
    }
   ],
   "source": [
    "data = pd.read_csv('LorentzianData.csv') \n",
    "\n",
    "def three_iv():\n",
    "    '''Your function should return something of the form np.matrix([[a_cc,a_cm],[a_mc,a_mm]])'''\n",
    "\n",
    "    cov_matrix = np.matrix(three_ii()[4])\n",
    "    correlation_matrix = np.corrcoef(cov_matrix)\n",
    "    \n",
    "    return correlation_matrix\n",
    "\n",
    "three_iv()"
   ]
  },
  {
   "cell_type": "markdown",
   "metadata": {
    "nbgrader": {
     "grade": false,
     "grade_id": "cell-e823d6820599ceee",
     "locked": true,
     "schema_version": 3,
     "solution": false,
     "task": false
    }
   },
   "source": [
    "### (v) What are the uncertainties in the best-fit parameters?"
   ]
  },
  {
   "cell_type": "code",
   "execution_count": 14,
   "metadata": {
    "nbgrader": {
     "grade": false,
     "grade_id": "cell-e6553187fe7ba54a",
     "locked": true,
     "schema_version": 3,
     "solution": false,
     "task": false
    }
   },
   "outputs": [
    {
     "data": {
      "text/plain": [
       "(0.21166905028326,\n",
       " 0.030325542109700922,\n",
       " 0.048295123658362346,\n",
       " 0.016393254169001014)"
      ]
     },
     "execution_count": 14,
     "metadata": {},
     "output_type": "execute_result"
    }
   ],
   "source": [
    "data = pd.read_csv('LorentzianData.csv') \n",
    "\n",
    "def three_v():\n",
    "    uncertainty_s_0 = 0\n",
    "    uncertainty_s_bgd = 0\n",
    "    uncertainty_delta_theta = 0\n",
    "    uncertainty_theta_0 = 0\n",
    "\n",
    "    error_mat = three_iii()\n",
    "    uncertainty_s_0 = np.sqrt(error_mat[0,0])\n",
    "    uncertainty_s_bgd = np.sqrt(error_mat[1,1])\n",
    "    uncertainty_delta_theta = np.sqrt(error_mat[2,2])\n",
    "    uncertainty_theta_0 = np.sqrt(error_mat[3,3])\n",
    "\n",
    "    return uncertainty_s_0,uncertainty_s_bgd,uncertainty_delta_theta,uncertainty_theta_0\n",
    "\n",
    "three_v()"
   ]
  },
  {
   "cell_type": "markdown",
   "metadata": {
    "nbgrader": {
     "grade": false,
     "grade_id": "cell-6837d80f4935e327",
     "locked": true,
     "schema_version": 3,
     "solution": false,
     "task": false
    }
   },
   "source": [
    "### (vi) These contours are shown in figure 6.11 of Hughes and Hase. Comment on the shape of the contours."
   ]
  },
  {
   "cell_type": "markdown",
   "metadata": {
    "nbgrader": {
     "grade": false,
     "grade_id": "cell-9d235bfae599fba1",
     "locked": true,
     "schema_version": 3,
     "solution": false,
     "task": false
    }
   },
   "source": [
    "The contours are not entirely elliptical; this is due to the non-linear fit. The contours for the background-width plot are flatter near the minimum than those of the background-centre plot."
   ]
  },
  {
   "cell_type": "markdown",
   "metadata": {
    "nbgrader": {
     "grade": false,
     "grade_id": "cell-1847db7a2c78bfde",
     "locked": true,
     "schema_version": 3,
     "solution": false,
     "task": false
    }
   },
   "source": [
    "## Question 4: Prove the following properties:\n",
    "\n",
    "Assume in this question that the uncertainties in $A$ and $B$ are correlated.\n",
    ">(i) If $Z=A\\pm B$, show that\n",
    "${\\displaystyle\\alpha_{Z}^2=\\alpha_{A}^2+\\alpha_{B}^2\\pm2\\alpha_{AB}}$.\n",
    "<bf>\n",
    ">(ii) If $Z=A\\times B$, show that\n",
    " ${\\displaystyle\\left(\\frac{\\alpha_Z}{Z}\\right)^2=\\left(\\frac{\\alpha_A}{A}\\right)^2+\\left(\\frac{\\alpha_B}{B}\\right)^2+2\\left(\\frac{\\alpha_{AB}}{AB}\\right)}$.\n",
    "<bf>\n",
    ">(iii) If ${\\displaystyle Z=\\frac{A}{B}}$, show that\n",
    "${\\displaystyle\\left(\\frac{\\alpha_Z}{Z}\\right)^2=\\left(\\frac{\\alpha_A}{A}\\right)^2+\\left(\\frac{\\alpha_B}{B}\\right)^2-2\\left(\\frac{\\alpha_{AB}}{AB}\\right)}$."
   ]
  },
  {
   "cell_type": "markdown",
   "metadata": {
    "nbgrader": {
     "grade": true,
     "grade_id": "cell-98dd0155ce1eafc8",
     "locked": false,
     "points": 0,
     "schema_version": 3,
     "solution": true,
     "task": false
    }
   },
   "source": [
    "The necessary equations to solve this question can be found in Chapter 7.3 of the book.\n",
    "\n",
    "$Z$ is defined as a function of $A$ and $B$, i.e. $Z = Z(A,B)$. To first order, its spread is given by the expansion\n",
    "\n",
    "\\begin{equation}\n",
    "Z - \\bar Z = \\partial_AZ(A - \\bar A ) + \\partial_BZ(B - \\bar B ) \\, ,\n",
    "\\end{equation}\n",
    "\n",
    "where $\\bar X$ denotes the mean value of the parameter and we have used the notation $\\partial_yX$ to denote the partial derivative $\\frac{\\partial X}{\\partial y}$.\n",
    "\n",
    "For a large number N, the standard deviation of $Z$ is defined as \n",
    "\n",
    "\\begin{equation}\n",
    "\\alpha_Z^2 = (\\partial_AZ)^2\\alpha_A^2 + (\\partial_BZ)^2\\alpha_B^2 + 2\\,\\partial_AZ\\, \\partial_BZ\\, \\alpha_{A,B} \\, ,\n",
    "\\end{equation}\n",
    "\n",
    "see Eq.(2.28) in the book. To prove the above properties (i)-(iii), we simply need to calculate the partial derivative and plug them into the equation above. \n",
    "\n",
    "\n",
    "i) $Z = A \\pm B.\\quad \\partial_AZ = 1,\\quad \\partial_BZ = \\pm1$.\n",
    "\n",
    "\\begin{eqnarray}\n",
    "\\alpha_Z^2 &=& (1)^2\\alpha_A^2 + (\\pm1)^2\\alpha_B^2 + 2\\cdot(1\\cdot(\\pm1))\\, \\alpha_{A,B} \\\\\n",
    "                       &=& \\alpha_A^2 + \\alpha_B^2 \\pm 2\\alpha_{A,B} \\, .\\quad\\square\n",
    "\\end{eqnarray}\n",
    "\n",
    "\n",
    "\n",
    "ii) $Z = A \\cdot B.\\quad \\partial_AZ = B,\\quad \\partial_BZ = A$.\n",
    "\n",
    "\\begin{eqnarray}\n",
    "\\alpha_Z^2 &=& B^2\\alpha_A^2 + A^2\\alpha_B^2 + 2AB\\alpha_{A,B}\\\\\n",
    "\\left(\\frac{\\alpha_Z}{Z}\\right)^2 &=& \\frac{1}{A^2B^2}\\left(B^2\\alpha_A^2 + A^2\\alpha_B^2 + 2AB\\alpha_{A,B}\\right) \\\\\n",
    "       &=& \\left(\\frac{\\alpha_A}{A}\\right)^2 + \\left(\\frac{\\alpha_B}{B}\\right)^2 + \\frac{2\\alpha_{AB}}{AB}\\, .\\quad\\square\n",
    "\\end{eqnarray}\n",
    "\n",
    "\n",
    "iii) $Z = \\frac{A}{B}.\\quad \\partial_AZ = 1/B,\\quad \\partial_BZ = -A / B^2$.\n",
    "\n",
    "\\begin{eqnarray}\n",
    "\\alpha_Z^2 &=& \\left(\\frac{1}{B}\\right)^2\\alpha_A^2 + \\left(-\\frac{A}{B^2}\\right)^2\\alpha_B^2 - 2\\frac{A}{B^3}\\alpha_{A,B} \\\\\n",
    " \\left(\\frac{\\alpha_Z}{Z}\\right)^2 &=& \\frac{B^2}{A^2}\\left(\\left(\\frac{1}{B}\\right)^2\\alpha_A^2 + \\left(-\\frac{A}{B^2}\\right)^2\\alpha_B^2 - 2\\frac{A}{B^3}\\alpha_{A,B}\\right) \\\\\n",
    "        &=& \\left(\\frac{\\alpha_A}{A}\\right)^2 + \\left(\\frac{\\alpha_B}{B}\\right)^2 - \\frac{2\\alpha_{AB}}{AB}\n",
    "        \\, .\\quad\\square\n",
    "\\end{eqnarray}"
   ]
  },
  {
   "cell_type": "code",
   "execution_count": null,
   "metadata": {},
   "outputs": [],
   "source": []
  }
 ],
 "metadata": {
  "celltoolbar": "Create Assignment",
  "kernelspec": {
   "display_name": "Python 3 (ipykernel)",
   "language": "python",
   "name": "python3"
  },
  "language_info": {
   "codemirror_mode": {
    "name": "ipython",
    "version": 3
   },
   "file_extension": ".py",
   "mimetype": "text/x-python",
   "name": "python",
   "nbconvert_exporter": "python",
   "pygments_lexer": "ipython3",
   "version": "3.9.12"
  }
 },
 "nbformat": 4,
 "nbformat_minor": 2
}
